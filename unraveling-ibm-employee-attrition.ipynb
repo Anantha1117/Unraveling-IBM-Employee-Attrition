{
 "cells": [
  {
   "cell_type": "code",
   "execution_count": 1,
   "id": "21da9267",
   "metadata": {
    "_cell_guid": "b1076dfc-b9ad-4769-8c92-a6c4dae69d19",
    "_uuid": "8f2839f25d086af736a60e9eeb907d3b93b6e0e5",
    "execution": {
     "iopub.execute_input": "2025-02-18T16:30:11.412209Z",
     "iopub.status.busy": "2025-02-18T16:30:11.411841Z",
     "iopub.status.idle": "2025-02-18T16:30:12.382409Z",
     "shell.execute_reply": "2025-02-18T16:30:12.381361Z"
    },
    "papermill": {
     "duration": 0.975658,
     "end_time": "2025-02-18T16:30:12.384223",
     "exception": false,
     "start_time": "2025-02-18T16:30:11.408565",
     "status": "completed"
    },
    "tags": []
   },
   "outputs": [],
   "source": [
    "# This Python 3 environment comes with many helpful analytics libraries installed\n",
    "# It is defined by the kaggle/python Docker image: https://github.com/kaggle/docker-python\n",
    "# For example, here's several helpful packages to load\n",
    "\n",
    "import numpy as np # linear algebra\n",
    "import pandas as pd # data processing, CSV file I/O (e.g. pd.read_csv)\n",
    "\n",
    "# Input data files are available in the read-only \"../input/\" directory\n",
    "# For example, running this (by clicking run or pressing Shift+Enter) will list all files under the input directory\n",
    "\n",
    "import os\n",
    "for dirname, _, filenames in os.walk('/kaggle/input'):\n",
    "    for filename in filenames:\n",
    "        print(os.path.join(dirname, filename))\n",
    "\n",
    "# You can write up to 20GB to the current directory (/kaggle/working/) that gets preserved as output when you create a version using \"Save & Run All\" \n",
    "# You can also write temporary files to /kaggle/temp/, but they won't be saved outside of the current session"
   ]
  },
  {
   "cell_type": "markdown",
   "id": "1911f8ac",
   "metadata": {
    "papermill": {
     "duration": 0.001377,
     "end_time": "2025-02-18T16:30:12.387761",
     "exception": false,
     "start_time": "2025-02-18T16:30:12.386384",
     "status": "completed"
    },
    "tags": []
   },
   "source": [
    "#Exploring dataset"
   ]
  },
  {
   "cell_type": "code",
   "execution_count": 2,
   "id": "f3eecbc5",
   "metadata": {
    "execution": {
     "iopub.execute_input": "2025-02-18T16:30:12.392090Z",
     "iopub.status.busy": "2025-02-18T16:30:12.391553Z",
     "iopub.status.idle": "2025-02-18T16:30:12.395869Z",
     "shell.execute_reply": "2025-02-18T16:30:12.394813Z"
    },
    "papermill": {
     "duration": 0.008258,
     "end_time": "2025-02-18T16:30:12.397502",
     "exception": false,
     "start_time": "2025-02-18T16:30:12.389244",
     "status": "completed"
    },
    "tags": []
   },
   "outputs": [],
   "source": [
    "import numpy as np"
   ]
  }
 ],
 "metadata": {
  "kaggle": {
   "accelerator": "none",
   "dataSources": [],
   "isGpuEnabled": false,
   "isInternetEnabled": false,
   "language": "python",
   "sourceType": "notebook"
  },
  "kernelspec": {
   "display_name": "Python 3",
   "language": "python",
   "name": "python3"
  },
  "language_info": {
   "codemirror_mode": {
    "name": "ipython",
    "version": 3
   },
   "file_extension": ".py",
   "mimetype": "text/x-python",
   "name": "python",
   "nbconvert_exporter": "python",
   "pygments_lexer": "ipython3",
   "version": "3.10.12"
  },
  "papermill": {
   "default_parameters": {},
   "duration": 4.52736,
   "end_time": "2025-02-18T16:30:13.018679",
   "environment_variables": {},
   "exception": null,
   "input_path": "__notebook__.ipynb",
   "output_path": "__notebook__.ipynb",
   "parameters": {},
   "start_time": "2025-02-18T16:30:08.491319",
   "version": "2.6.0"
  }
 },
 "nbformat": 4,
 "nbformat_minor": 5
}
